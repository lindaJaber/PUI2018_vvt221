{
 "cells": [
  {
   "cell_type": "code",
   "execution_count": 2,
   "metadata": {},
   "outputs": [
    {
     "name": "stdout",
     "output_type": "stream",
     "text": [
      "Populating the interactive namespace from numpy and matplotlib\n"
     ]
    }
   ],
   "source": [
    "from __future__ import print_function\n",
    "import os\n",
    "import sys\n",
    "import numpy as np\n",
    "import pylab as pl\n",
    "import pandas as pd\n",
    "import numpy as np\n",
    "\n",
    "%pylab inline\n",
    "\n",
    "from IPython.display import Image"
   ]
  },
  {
   "cell_type": "markdown",
   "metadata": {},
   "source": [
    "# Null hypothesis: The % of former prisoners suspectible to recidivism , i.e. getting convicted of a felony within 3 years of release is same or higher for candidates who participated in the program as for the control group, significance level p=0.05\n",
    "\n",
    "\n",
    "##### 0 for control group, 1 for program group\n",
    " $H_0$ : $P_1$ - $P_0$ >= 0\n",
    " \n",
    " $H_a$ : $P_1$ - $P_0$ < 0\n",
    "\n",
    " $P_0 = 0.1, P_1= 0.117$\n",
    " \n",
    " \n",
    " $\\alpha$=0.05"
   ]
  },
  {
   "cell_type": "markdown",
   "metadata": {},
   "source": [
    "# Test 1: Z Test"
   ]
  },
  {
   "cell_type": "code",
   "execution_count": 2,
   "metadata": {},
   "outputs": [
    {
     "name": "stdout",
     "output_type": "stream",
     "text": [
      "Sample Proportion: 0.107116683726\n",
      "Standard Error: 0.0200556791612\n"
     ]
    },
    {
     "data": {
      "text/plain": [
       "0.84764020521993222"
      ]
     },
     "execution_count": 2,
     "metadata": {},
     "output_type": "execute_result"
    }
   ],
   "source": [
    "alpha=0.05\n",
    "# 0 for control group, 1 for program group\n",
    "P_0=0.117\n",
    "P_1=0.1\n",
    "\n",
    "n_0= 409\n",
    "n_1= 568\n",
    "\n",
    "\n",
    "#calculate sample proportion\n",
    "\n",
    "p  = ((P_0 * n_0) + (P_1 * n_1 )) / (n_0 + n_1)\n",
    "print('Sample Proportion: ' + str(p))\n",
    "\n",
    "#calculate the standard error\n",
    "\n",
    "se = np.sqrt( p * (1-p) * (1.0/n_0 + 1.0/n_1))\n",
    "print('Standard Error: '+ str(se))\n",
    "z_3y = (P_0 - P_1)/se\n",
    "\n",
    "z_3y"
   ]
  },
  {
   "cell_type": "code",
   "execution_count": 3,
   "metadata": {},
   "outputs": [],
   "source": [
    "def report_result(p,a):\n",
    "    print ('is the p value ' + \n",
    "           '{0:.2f} smaller than the critical value {1:.2f}?'.format(p,a))\n",
    "    if p < a:\n",
    "        print (\"YES!\")\n",
    "    else: \n",
    "        print (\"NO!\")\n",
    "    \n",
    "    print ('the Null hypothesis is {}'.format(\\\n",
    "                            'rejected' if p < a  else 'not rejected') )"
   ]
  },
  {
   "cell_type": "markdown",
   "metadata": {},
   "source": [
    "###### The z statistic for 0.85 is 0.8023"
   ]
  },
  {
   "cell_type": "code",
   "execution_count": 4,
   "metadata": {},
   "outputs": [
    {
     "name": "stdout",
     "output_type": "stream",
     "text": [
      "is the p value 0.20 smaller than the critical value 0.05?\n",
      "NO!\n",
      "the Null hypothesis is not rejected\n"
     ]
    }
   ],
   "source": [
    "p_3y = 1 - 0.8023\n",
    "\n",
    "report_result(p_3y, alpha)"
   ]
  },
  {
   "cell_type": "markdown",
   "metadata": {},
   "source": [
    "# Test 2: Chi Square Test"
   ]
  },
  {
   "cell_type": "markdown",
   "metadata": {},
   "source": [
    "### Note: Function for chi square test was formulated using example here:\n",
    "\n",
    "http://math.hws.edu/javamath/ryan/ChiSquare.html\n",
    "\n"
   ]
  },
  {
   "cell_type": "code",
   "execution_count": 5,
   "metadata": {},
   "outputs": [],
   "source": [
    "def evalChisq(sample_values):\n",
    "    total_sum = np.sum(sample_values)\n",
    "    sum_between_rows = np.sum(sample_values, axis = 0)\n",
    "    sum_within_rows = np.sum(sample_values, axis = 1)\n",
    "    diagonal_product_1 = sample_values[0][0] * sample_values[1][1]\n",
    "    diagonal_product_2 = sample_values[0][1] * sample_values[1][0]\n",
    "    diagonal_difference_sq = (diagonal_product_1 - diagonal_product_2)**2\n",
    "    \n",
    "    return ((total_sum * diagonal_difference_sq )/ (sum_between_rows[0] * sum_between_rows[1] * sum_within_rows[0] * sum_within_rows[1]))"
   ]
  },
  {
   "cell_type": "code",
   "execution_count": 5,
   "metadata": {},
   "outputs": [],
   "source": []
  },
  {
   "cell_type": "code",
   "execution_count": 3,
   "metadata": {},
   "outputs": [],
   "source": [
    "def evalChisq1(values):\n",
    "    values = np.array(values)\n",
    "    E = np.empty_like(values)\n",
    "    #total number of categories\n",
    "    for j in range(len(values[0])):\n",
    "        # program and control , therefore 2\n",
    "        for i in range(2):\n",
    "            \n",
    "            #sum along rows * sum along cols / total sum\n",
    "            E[i][j] = ((values[i,:].sum() * values[:,j].sum()) / \n",
    "                        (values).sum())\n",
    "    return ((values - E)**2 / E).sum()\n"
   ]
  },
  {
   "cell_type": "code",
   "execution_count": 8,
   "metadata": {},
   "outputs": [],
   "source": [
    "\n",
    "Ntot = 977\n",
    "\n",
    "sample_values = np.array([[0.1 * 568, 0.9 * 568],[0.117 * 409 , 0.883 * 409]])\n",
    "#print (evalChisq(sample_values))\n"
   ]
  },
  {
   "cell_type": "code",
   "execution_count": 10,
   "metadata": {},
   "outputs": [
    {
     "data": {
      "text/plain": [
       "(0.71849391750528868,\n",
       " 0.39663837626861698,\n",
       " 1,\n",
       " array([[  60.84227636,  507.15772364],\n",
       "        [  43.81072364,  365.18927636]]))"
      ]
     },
     "execution_count": 10,
     "metadata": {},
     "output_type": "execute_result"
    }
   ],
   "source": [
    "from scipy.stats import chi2_contingency\n",
    "obs = np.array([[10, 10, 20], [20, 20, 20]])\n",
    "chi2_contingency(sample_values, )\n",
    "chi2_contingency(sample_values, correction=False)\n"
   ]
  },
  {
   "cell_type": "code",
   "execution_count": 7,
   "metadata": {},
   "outputs": [],
   "source": [
    "# degree of freedom = (number of rows -1 )(number of columns -1 )\n",
    "dof = (2-1) * (2-1)"
   ]
  },
  {
   "cell_type": "markdown",
   "metadata": {},
   "source": [
    "# Observations and Conclusion:\n",
    "\n",
    "p value at dof 1 and 0.05 significance level is 3.84\n",
    "\n",
    "0.718493917505 < 3.84\n",
    "\n",
    "which means p >= 0.05\n",
    "\n",
    "Which means we fail to reject the null"
   ]
  },
  {
   "cell_type": "markdown",
   "metadata": {},
   "source": [
    "# Contingency Table"
   ]
  },
  {
   "cell_type": "markdown",
   "metadata": {},
   "source": [
    "\n",
    "\n",
    "|convicted of a felony      |     yes        | no          |                   |                   \n",
    "|---------------------------|----------------|-------------|-------------------|\n",
    "| test sample               | 0.1 * 568      | 0.9 * 568   |        568        |\n",
    "| control sample            | 0.117 * 409    | 0.883 * 409 |        409        |\n",
    "|                           |                |             |                   |\n",
    "| total                     |   104.653      |   872.347   |        977        |"
   ]
  },
  {
   "cell_type": "code",
   "execution_count": null,
   "metadata": {},
   "outputs": [],
   "source": []
  }
 ],
 "metadata": {
  "kernelspec": {
   "display_name": "PUI2016_Python3",
   "language": "python",
   "name": "pui2016_python3"
  },
  "language_info": {
   "codemirror_mode": {
    "name": "ipython",
    "version": 3
   },
   "file_extension": ".py",
   "mimetype": "text/x-python",
   "name": "python",
   "nbconvert_exporter": "python",
   "pygments_lexer": "ipython3",
   "version": "3.5.4"
  }
 },
 "nbformat": 4,
 "nbformat_minor": 2
}
