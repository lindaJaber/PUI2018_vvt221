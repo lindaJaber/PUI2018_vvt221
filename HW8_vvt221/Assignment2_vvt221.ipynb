{
 "cells": [
  {
   "cell_type": "code",
   "execution_count": 1,
   "metadata": {},
   "outputs": [
    {
     "name": "stdout",
     "output_type": "stream",
     "text": [
      "Populating the interactive namespace from numpy and matplotlib\n"
     ]
    }
   ],
   "source": [
    "from __future__  import print_function, division\n",
    "import pylab as pl\n",
    "import pandas as pd\n",
    "import numpy as np\n",
    "import os\n",
    "\n",
    "%pylab inline\n",
    "os.environ[\"PUI2018\"] = \"%s/PUI2018\"%os.getenv(\"HOME\")\n",
    "if os.getenv ('PUI2018') is None:\n",
    "    print (\"Must set env variable PUI2018\")\n",
    "if os.getenv ('PUIDATA') is None:\n",
    "    print (\"Must set env variable PUI2018\")\n",
    "\n",
    "import os\n",
    "import glob\n",
    "import json"
   ]
  },
  {
   "cell_type": "code",
   "execution_count": 2,
   "metadata": {},
   "outputs": [],
   "source": [
    "def getCitiBikeCSV(datestring):\n",
    "    print (\"Downloading\", datestring)\n",
    "    ### First I will heck that it is not already there\n",
    "    if not os.path.isfile(os.getenv(\"PUIDATA\") + \"/\" + datestring + \"-citibike-tripdata.csv\"):\n",
    "        if os.path.isfile(datestring + \"-citibike-tripdata.csv\"):\n",
    "            # if in the current dir just move it\n",
    "            if os.system(\"mv \" + datestring + \"-citibike-tripdata.csv \" + os.getenv(\"PUIDATA\")):\n",
    "                print (\"Error moving file!, Please check!\")\n",
    "        #otherwise start looking for the zip file\n",
    "        else:\n",
    "            if not os.path.isfile(os.getenv(\"PUIDATA\") + \"/\" + datestring + \"-citibike-tripdata.zip\"):\n",
    "                if not os.path.isfile(datestring + \"-citibike-tripdata.zip\"):\n",
    "                    os.system(\"curl -O https://s3.amazonaws.com/tripdata/\" + datestring + \"-citibike-tripdata.zip\")\n",
    "                ###  To move it I use the os.system() functions to run bash commands with arguments\n",
    "                os.system(\"mv \" + datestring + \"-citibike-tripdata.zip \" + os.getenv(\"PUIDATA\"))\n",
    "            ### unzip the csv \n",
    "            os.system(\"unzip \" + os.getenv(\"PUIDATA\") + \"/\" + datestring + \"-citibike-tripdata.zip\")\n",
    "            ## NOTE: old csv citibike data had a different name structure. \n",
    "            if '2014' in datestring:\n",
    "                os.system(\"mv \" + datestring[:4] + '-' +  datestring[4:] + \n",
    "                          \"\\ -\\ Citi\\ Bike\\ trip\\ data.csv \" + datestring + \"-citibike-tripdata.csv\")\n",
    "            os.system(\"mv \" + datestring + \"-citibike-tripdata.csv \" + os.getenv(\"PUIDATA\"))\n",
    "    ### One final check:\n",
    "    if not os.path.isfile(os.getenv(\"PUIDATA\") + \"/\" + datestring + \"-citibike-tripdata.csv\"):\n",
    "        print (\"WARNING!!! something is wrong: the file is not there!\")\n",
    "\n",
    "    else:\n",
    "        print (\"file in place, you can continue\")"
   ]
  },
  {
   "cell_type": "code",
   "execution_count": 3,
   "metadata": {},
   "outputs": [
    {
     "name": "stdout",
     "output_type": "stream",
     "text": [
      "Downloading 201601\n",
      "file in place, you can continue\n",
      "Downloading 201602\n",
      "file in place, you can continue\n",
      "Downloading 201501\n",
      "file in place, you can continue\n",
      "Downloading 201502\n",
      "file in place, you can continue\n"
     ]
    }
   ],
   "source": [
    "dates = ['201601' , '201602' , '201501' , '201502']\n",
    "for date in dates:\n",
    "    getCitiBikeCSV(date)"
   ]
  },
  {
   "cell_type": "code",
   "execution_count": 4,
   "metadata": {},
   "outputs": [],
   "source": [
    "citibike_2016 = pd.concat([pd.read_csv(f) for f in glob.glob(os.getenv('PUIDATA')+ '/20160[12]-citibike-tripdata.csv')])\n",
    "citibike_2015 = pd.concat([pd.read_csv(f) for f in glob.glob(os.getenv('PUIDATA')+ '/20150[12]-citibike-tripdata.csv')])"
   ]
  },
  {
   "cell_type": "code",
   "execution_count": 5,
   "metadata": {},
   "outputs": [],
   "source": [
    "\n",
    "citibike_2016['date'] = pd.to_datetime(citibike_2016['starttime'],infer_datetime_format=True)\n",
    "citibike_2015['date'] = pd.to_datetime(citibike_2015['starttime'],infer_datetime_format=True)"
   ]
  },
  {
   "cell_type": "code",
   "execution_count": 6,
   "metadata": {},
   "outputs": [],
   "source": [
    "cb = pd.concat([citibike_2016,citibike_2015],ignore_index=True)"
   ]
  },
  {
   "cell_type": "code",
   "execution_count": 7,
   "metadata": {},
   "outputs": [],
   "source": [
    "cb_df = cb[['tripduration','date']]"
   ]
  },
  {
   "cell_type": "markdown",
   "metadata": {},
   "source": [
    "# Idea:\n",
    "\n",
    "### People are not very keen to follow up on their new years resolutions \n",
    "At the beginning of the new year, people are very enthusiastic about folloing their New Years Resolutions. People sign up for gyms, citibikes etc in a quest for better health. However, many of them often fail to follow through after the first month. We see if this hypothesis holds weight. Should it hold true, citibike can incentivize the subscribers by providing them appropriate discounts etc to help them stick to their riderships.\n",
    "\n",
    "# Null Hypothesis\n",
    "\n",
    "###  $H_{0}$ : Proportion of people riding bikes after January(in February) is same or more than that of January.\n",
    "\n",
    "###  $H_{a}$ :Proportion of people riding bikes after January(in February) is less than that of January."
   ]
  },
  {
   "cell_type": "markdown",
   "metadata": {},
   "source": [
    "\n",
    "# Mathematical formulation of null hypothesis\n",
    "\n",
    "###  $H_{0}$ : $Proportion of people_{riding bikes after January(FEBRUARY)}$ >= $Proportion of people_{riding bikes in January}$\n",
    "\n",
    "###  $H_{a}$ : $Proportion of people_{riding bikes after January(FEBRUARY)}$ <  $Proportion of people_{riding bikes inJanuary}$\n",
    "\n",
    "## significance level  $\\alpha=0.05$\n"
   ]
  },
  {
   "cell_type": "code",
   "execution_count": 19,
   "metadata": {},
   "outputs": [
    {
     "data": {
      "image/png": "[encoded data removed]",
      "text/plain": [
       "<matplotlib.figure.Figure at 0x7f576a8d9210>"
      ]
     },
     "metadata": {},
     "output_type": "display_data"
    }
   ],
   "source": [
    "fig, ax = plt.subplots()\n",
    "\n",
    "plot1 = (cb_df[cb_df['date'].dt.year == 2016].groupby(cb_df['date'].dt.month)[['tripduration']].count()).plot(kind='bar',ax=ax,legend=False)\n",
    "tmp = ax.xaxis.set_ticklabels(['January', 'February'], fontsize=10)\n",
    "ax.set_ylabel('Number of trips taken')\n",
    "ax.set_title('Fig 1: Plot showing trips taken in the month of January and February in the year 2016')\n",
    "savefig('fig1.png')"
   ]
  },
  {
   "cell_type": "code",
   "execution_count": 20,
   "metadata": {},
   "outputs": [
    {
     "data": {
      "image/png": "[encoded data removed]",
      "text/plain": [
       "<matplotlib.figure.Figure at 0x7f576a9c7a50>"
      ]
     },
     "metadata": {},
     "output_type": "display_data"
    }
   ],
   "source": [
    "fig, ax = plt.subplots()\n",
    "(cb_df[cb_df['date'].dt.year == 2015].groupby(cb_df['date'].dt.month)[['tripduration']].count()).plot(kind='bar',ax=ax,color='red',legend=False)\n",
    "\n",
    "tmp = ax.xaxis.set_ticklabels(['January', 'February'], fontsize=10)\n",
    "ax.set_ylabel('Number of trips taken')\n",
    "ax.set_title('Fig 2: Plot showing trips taken in the month of January and February in the year 2015')\n",
    "savefig('fig2.png')"
   ]
  },
  {
   "cell_type": "markdown",
   "metadata": {},
   "source": [
    "# Hypothesis Testing:\n",
    "\n",
    "Following Devashish's suggestion, the Z test for proportions was employed to test this hypothesis"
   ]
  },
  {
   "cell_type": "code",
   "execution_count": 10,
   "metadata": {},
   "outputs": [],
   "source": [
    "total_trips_January = cb_df.groupby(cb_df['date'].dt.month == 1)[['tripduration']].count()\n",
    "total_trips_February = cb_df.groupby(cb_df['date'].dt.month == 2)[['tripduration']].count()\n",
    "total_trips = cb_df.shape[0]\n",
    "j = total_trips_January.reset_index()\n",
    "f = total_trips_February.reset_index()\n",
    "num_J = j.iloc[1][1]\n",
    "num_F = f.iloc[1][1]\n",
    "\n",
    "# We use the z square test of proportion\n",
    "alpha=0.05\n",
    "# 0 for february, 1 for january\n",
    "P_0= num_F/total_trips\n",
    "P_1= num_J/total_trips\n",
    "\n",
    "n_0= num_F\n",
    "n_1= num_J"
   ]
  },
  {
   "cell_type": "code",
   "execution_count": 12,
   "metadata": {},
   "outputs": [
    {
     "name": "stdout",
     "output_type": "stream",
     "text": [
      "Sample Proportion: 0.500287350983\n",
      "Standard Error: 0.000802716598408\n",
      "The Z statistic is : -29.8647647533\n"
     ]
    }
   ],
   "source": [
    "#calculate sample proportion\n",
    "\n",
    "p  = ((P_0 * n_0) + (P_1 * n_1 )) / (n_0 + n_1)\n",
    "print('Sample Proportion: ' + str(p))\n",
    "\n",
    "#calculate the standard error\n",
    "\n",
    "se = np.sqrt( p * (1-p) * (1.0/n_0 + 1.0/n_1))\n",
    "print('Standard Error: '+ str(se))\n",
    "z_3y = (P_0 - P_1)/se\n",
    "\n",
    "print('The Z statistic is : ' + str(z_3y))"
   ]
  },
  {
   "cell_type": "code",
   "execution_count": 21,
   "metadata": {},
   "outputs": [
    {
     "name": "stdout",
     "output_type": "stream",
     "text": [
      "January: 0.512, February:0.716, January error:0.488, February error:0.699\n"
     ]
    },
    {
     "data": {
      "image/png": "[encoded data removed]",
      "text/plain": [
       "<matplotlib.figure.Figure at 0x7f576a79ee90>"
      ]
     },
     "metadata": {},
     "output_type": "display_data"
    }
   ],
   "source": [
    "#Proportion of ridership graphs for January and February\n",
    "fig = pl.figure(figsize(10,6))\n",
    "ax1 = fig.add_subplot(121)\n",
    "\n",
    "ax1.set_xticks([])\n",
    "\n",
    "# P_0 : ridership in February P_1 : ridership in january\n",
    "error_j = np.sqrt(P_1)\n",
    "error_f = np.sqrt(P_0)\n",
    "\n",
    "print(\"January: {0:.3f}, February:{1:.3f}, January error:{2:.3f}, February error:{3:.3f}\"\\\n",
    "      .format(P_1, error_j, P_0, error_f))\n",
    "\n",
    "ax1.errorbar([0.2], [P_1], yerr=[error_j], fmt='o', label='January')\n",
    "ax1.errorbar([0.3], [P_0], yerr=[error_f], fmt='o', label='February')\n",
    "ax1.set_xlim(0, 0.5)\n",
    "\n",
    "ax1.set_title(\"Ridership analysis for the months of January and February\")\n",
    "ax1.set_ylabel(\"Fraction of normalized rides by month\")\n",
    "\n",
    "pl.legend()\n",
    "savefig('fig3.png')"
   ]
  },
  {
   "cell_type": "markdown",
   "metadata": {},
   "source": [
    "#### Fig 3: Plot showing the normalized ridership for the months of January and February"
   ]
  },
  {
   "cell_type": "code",
   "execution_count": 13,
   "metadata": {},
   "outputs": [],
   "source": [
    "\n",
    "def report_result(p,a):\n",
    "    print ('is the p value ' + \n",
    "           '{0:.2f} smaller than the critical value {1:.2f}?'.format(p,a))\n",
    "    if p < a:\n",
    "        print (\"YES!\")\n",
    "    else: \n",
    "        print (\"NO!\")\n",
    "    \n",
    "    print ('the Null hypothesis is {}'.format(\\\n",
    "                            'rejected' if p < a  else 'not rejected') )"
   ]
  },
  {
   "cell_type": "code",
   "execution_count": 14,
   "metadata": {},
   "outputs": [
    {
     "name": "stdout",
     "output_type": "stream",
     "text": [
      "is the p value 0.00 smaller than the critical value 0.05?\n",
      "YES!\n",
      "the Null hypothesis is rejected\n"
     ]
    }
   ],
   "source": [
    "#we take the value of the z score from the table to be 0.9984\n",
    "p_3y = 1 - 0.9984\n",
    "\n",
    "report_result(p_3y, alpha)"
   ]
  },
  {
   "cell_type": "markdown",
   "metadata": {},
   "source": [
    "## Justification:\n",
    "\n",
    "We use the 2 proportion Z test because:\n",
    "* the samples are independent.\n",
    "* the sample size are > 30\n"
   ]
  },
  {
   "cell_type": "markdown",
   "metadata": {},
   "source": [
    "## Conclusion: \n",
    "\n",
    "Thus, we reject the null hypothesis that the proprotion of bike ridership is higher in February than January.\n",
    "The ridership does change once from January to February.\n",
    "\n",
    "### Strengths\n",
    "\n",
    "* The sample sizes are large enough\n",
    "\n",
    "\n",
    "\n",
    "### Shortcomings and Limitations:\n",
    "\n",
    "* The data is not enough to generalize this trend because we have only used data available for two years. \n",
    "\n",
    "* We dont have any information about the riders who used Citibike to fulfill their New Years resolution.\n",
    "\n"
   ]
  },
  {
   "cell_type": "code",
   "execution_count": null,
   "metadata": {},
   "outputs": [],
   "source": []
  }
 ],
 "metadata": {
  "kernelspec": {
   "display_name": "PUI2016_Python2",
   "language": "python",
   "name": "pui2016_python2"
  },
  "language_info": {
   "codemirror_mode": {
    "name": "ipython",
    "version": 2
   },
   "file_extension": ".py",
   "mimetype": "text/x-python",
   "name": "python",
   "nbconvert_exporter": "python",
   "pygments_lexer": "ipython2",
   "version": "2.7.12"
  }
 },
 "nbformat": 4,
 "nbformat_minor": 2
}
